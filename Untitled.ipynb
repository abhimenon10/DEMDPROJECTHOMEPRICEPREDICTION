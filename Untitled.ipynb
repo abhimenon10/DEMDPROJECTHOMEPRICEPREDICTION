{
 "cells": [
  {
   "cell_type": "code",
   "execution_count": 9,
   "id": "7b5aff8f",
   "metadata": {},
   "outputs": [],
   "source": [
    "#importing python libraries\n",
    "import pandas as pd\n",
    "import pickle\n",
    "import numpy as np\n",
    "from sklearn.linear_model import LinearRegression\n",
    "from sklearn.model_selection import train_test_split\n",
    "from sklearn.metrics import recall_score,precision_score,accuracy_score"
   ]
  },
  {
   "cell_type": "code",
   "execution_count": 4,
   "id": "e48cd72b",
   "metadata": {},
   "outputs": [],
   "source": [
    "df=pd.read_csv(\"C:\\\\Users\\\\vamsi\\\\Downloads\\\\Abhi\\\\wk3_kc_house_train_data.csv\")"
   ]
  },
  {
   "cell_type": "code",
   "execution_count": 5,
   "id": "67b793d4",
   "metadata": {},
   "outputs": [],
   "source": [
    "df['date']=pd.to_datetime(df['date']) #as the time is in object format we convert it to date format"
   ]
  },
  {
   "cell_type": "code",
   "execution_count": 6,
   "id": "a40f7e22",
   "metadata": {},
   "outputs": [
    {
     "name": "stdout",
     "output_type": "stream",
     "text": [
      "<class 'pandas.core.frame.DataFrame'>\n",
      "RangeIndex: 9761 entries, 0 to 9760\n",
      "Data columns (total 21 columns):\n",
      " #   Column         Non-Null Count  Dtype         \n",
      "---  ------         --------------  -----         \n",
      " 0   id             9761 non-null   int64         \n",
      " 1   date           9761 non-null   datetime64[ns]\n",
      " 2   price          9761 non-null   float64       \n",
      " 3   bedrooms       9761 non-null   int64         \n",
      " 4   bathrooms      9761 non-null   float64       \n",
      " 5   sqft_living    9761 non-null   int64         \n",
      " 6   sqft_lot       9761 non-null   int64         \n",
      " 7   floors         9761 non-null   float64       \n",
      " 8   waterfront     9761 non-null   int64         \n",
      " 9   view           9761 non-null   int64         \n",
      " 10  condition      9761 non-null   int64         \n",
      " 11  grade          9761 non-null   int64         \n",
      " 12  sqft_above     9761 non-null   int64         \n",
      " 13  sqft_basement  9761 non-null   int64         \n",
      " 14  yr_built       9761 non-null   int64         \n",
      " 15  yr_renovated   9761 non-null   int64         \n",
      " 16  zipcode        9761 non-null   int64         \n",
      " 17  lat            9761 non-null   float64       \n",
      " 18  long           9761 non-null   float64       \n",
      " 19  sqft_living15  9761 non-null   int64         \n",
      " 20  sqft_lot15     9761 non-null   int64         \n",
      "dtypes: datetime64[ns](1), float64(5), int64(15)\n",
      "memory usage: 1.6 MB\n"
     ]
    }
   ],
   "source": [
    "df.info()"
   ]
  },
  {
   "cell_type": "code",
   "execution_count": 7,
   "id": "5af253ac",
   "metadata": {},
   "outputs": [],
   "source": [
    "x=df[['bathrooms',\n",
    " 'sqft_living',\n",
    " 'floors',\n",
    " 'view',\n",
    "'sqft_above',\n",
    " 'condition',\n",
    " 'grade',\n",
    " 'yr_built','yr_renovated','sqft_basement']]\n",
    "y=df[['price']]"
   ]
  },
  {
   "cell_type": "code",
   "execution_count": 21,
   "id": "d0a43b6a",
   "metadata": {},
   "outputs": [
    {
     "data": {
      "text/html": [
       "<div>\n",
       "<style scoped>\n",
       "    .dataframe tbody tr th:only-of-type {\n",
       "        vertical-align: middle;\n",
       "    }\n",
       "\n",
       "    .dataframe tbody tr th {\n",
       "        vertical-align: top;\n",
       "    }\n",
       "\n",
       "    .dataframe thead th {\n",
       "        text-align: right;\n",
       "    }\n",
       "</style>\n",
       "<table border=\"1\" class=\"dataframe\">\n",
       "  <thead>\n",
       "    <tr style=\"text-align: right;\">\n",
       "      <th></th>\n",
       "      <th>bathrooms</th>\n",
       "      <th>sqft_living</th>\n",
       "      <th>floors</th>\n",
       "      <th>view</th>\n",
       "      <th>sqft_above</th>\n",
       "      <th>condition</th>\n",
       "      <th>grade</th>\n",
       "      <th>yr_built</th>\n",
       "      <th>yr_renovated</th>\n",
       "      <th>sqft_basement</th>\n",
       "    </tr>\n",
       "  </thead>\n",
       "  <tbody>\n",
       "    <tr>\n",
       "      <th>0</th>\n",
       "      <td>3.00</td>\n",
       "      <td>1960</td>\n",
       "      <td>1.0</td>\n",
       "      <td>0</td>\n",
       "      <td>1050</td>\n",
       "      <td>5</td>\n",
       "      <td>7</td>\n",
       "      <td>1965</td>\n",
       "      <td>0</td>\n",
       "      <td>910</td>\n",
       "    </tr>\n",
       "    <tr>\n",
       "      <th>1</th>\n",
       "      <td>4.50</td>\n",
       "      <td>5420</td>\n",
       "      <td>1.0</td>\n",
       "      <td>0</td>\n",
       "      <td>3890</td>\n",
       "      <td>3</td>\n",
       "      <td>11</td>\n",
       "      <td>2001</td>\n",
       "      <td>0</td>\n",
       "      <td>1530</td>\n",
       "    </tr>\n",
       "    <tr>\n",
       "      <th>2</th>\n",
       "      <td>1.00</td>\n",
       "      <td>1160</td>\n",
       "      <td>1.0</td>\n",
       "      <td>0</td>\n",
       "      <td>860</td>\n",
       "      <td>4</td>\n",
       "      <td>7</td>\n",
       "      <td>1942</td>\n",
       "      <td>0</td>\n",
       "      <td>300</td>\n",
       "    </tr>\n",
       "    <tr>\n",
       "      <th>3</th>\n",
       "      <td>1.00</td>\n",
       "      <td>1430</td>\n",
       "      <td>1.5</td>\n",
       "      <td>0</td>\n",
       "      <td>1430</td>\n",
       "      <td>4</td>\n",
       "      <td>7</td>\n",
       "      <td>1927</td>\n",
       "      <td>0</td>\n",
       "      <td>0</td>\n",
       "    </tr>\n",
       "    <tr>\n",
       "      <th>4</th>\n",
       "      <td>1.75</td>\n",
       "      <td>1370</td>\n",
       "      <td>1.0</td>\n",
       "      <td>0</td>\n",
       "      <td>1370</td>\n",
       "      <td>4</td>\n",
       "      <td>7</td>\n",
       "      <td>1977</td>\n",
       "      <td>0</td>\n",
       "      <td>0</td>\n",
       "    </tr>\n",
       "  </tbody>\n",
       "</table>\n",
       "</div>"
      ],
      "text/plain": [
       "   bathrooms  sqft_living  floors  view  sqft_above  condition  grade  \\\n",
       "0       3.00         1960     1.0     0        1050          5      7   \n",
       "1       4.50         5420     1.0     0        3890          3     11   \n",
       "2       1.00         1160     1.0     0         860          4      7   \n",
       "3       1.00         1430     1.5     0        1430          4      7   \n",
       "4       1.75         1370     1.0     0        1370          4      7   \n",
       "\n",
       "   yr_built  yr_renovated  sqft_basement  \n",
       "0      1965             0            910  \n",
       "1      2001             0           1530  \n",
       "2      1942             0            300  \n",
       "3      1927             0              0  \n",
       "4      1977             0              0  "
      ]
     },
     "execution_count": 21,
     "metadata": {},
     "output_type": "execute_result"
    }
   ],
   "source": [
    "x.head()"
   ]
  },
  {
   "cell_type": "code",
   "execution_count": 24,
   "id": "966a4b65",
   "metadata": {},
   "outputs": [
    {
     "data": {
      "text/plain": [
       "8.0"
      ]
     },
     "execution_count": 24,
     "metadata": {},
     "output_type": "execute_result"
    }
   ],
   "source": [
    "max(x.bathrooms)"
   ]
  },
  {
   "cell_type": "code",
   "execution_count": 10,
   "id": "6e22862f",
   "metadata": {},
   "outputs": [],
   "source": [
    "x_train,x_test,y_train,y_test=train_test_split(x,y,test_size=0.25,random_state=10)"
   ]
  },
  {
   "cell_type": "code",
   "execution_count": 11,
   "id": "66637904",
   "metadata": {},
   "outputs": [],
   "source": [
    "from sklearn.tree import DecisionTreeRegressor \n",
    "  \n",
    "# create a regressor object\n",
    "regressor = DecisionTreeRegressor(min_samples_split=5, min_samples_leaf=12, max_depth=10) \n",
    "  \n",
    "# fit the regressor with X and Y data\n",
    "reg=regressor.fit(x_train, y_train)"
   ]
  },
  {
   "cell_type": "code",
   "execution_count": 12,
   "id": "1c10e3b8",
   "metadata": {},
   "outputs": [
    {
     "data": {
      "text/plain": [
       "0.7480841863413491"
      ]
     },
     "execution_count": 12,
     "metadata": {},
     "output_type": "execute_result"
    }
   ],
   "source": [
    "reg.score(x_train,y_train)"
   ]
  },
  {
   "cell_type": "code",
   "execution_count": 14,
   "id": "c0d13613",
   "metadata": {},
   "outputs": [
    {
     "data": {
      "text/plain": [
       "0.7483499266514324"
      ]
     },
     "execution_count": 14,
     "metadata": {},
     "output_type": "execute_result"
    }
   ],
   "source": [
    "reg.score(x_test,y_test)"
   ]
  },
  {
   "cell_type": "code",
   "execution_count": 16,
   "id": "ce38baec",
   "metadata": {},
   "outputs": [],
   "source": [
    "with open(\"Home_Loan.pkl\",\"wb\") as file:\n",
    "    pickle.dump(reg,file)  \n",
    "    file.close()"
   ]
  },
  {
   "cell_type": "code",
   "execution_count": 17,
   "id": "a0933192",
   "metadata": {},
   "outputs": [],
   "source": [
    "with open(\"Home_Loan.pkl\",\"rb\") as file:\n",
    "    Pickled_Ba_Model = pickle.load(file)"
   ]
  },
  {
   "cell_type": "code",
   "execution_count": 18,
   "id": "1530a6f5",
   "metadata": {},
   "outputs": [],
   "source": [
    "Ypredict = Pickled_Ba_Model.predict(x_test)"
   ]
  },
  {
   "cell_type": "code",
   "execution_count": 19,
   "id": "30fd9ef5",
   "metadata": {},
   "outputs": [
    {
     "data": {
      "text/plain": [
       "array([ 456249.11764706, 2227785.71428571,  458103.33333333, ...,\n",
       "       1314939.66666667,  466999.19354839,  788796.67961165])"
      ]
     },
     "execution_count": 19,
     "metadata": {},
     "output_type": "execute_result"
    }
   ],
   "source": [
    "Ypredict"
   ]
  },
  {
   "cell_type": "code",
   "execution_count": null,
   "id": "6d5cd999",
   "metadata": {},
   "outputs": [],
   "source": []
  }
 ],
 "metadata": {
  "kernelspec": {
   "display_name": "Python 3",
   "language": "python",
   "name": "python3"
  },
  "language_info": {
   "codemirror_mode": {
    "name": "ipython",
    "version": 3
   },
   "file_extension": ".py",
   "mimetype": "text/x-python",
   "name": "python",
   "nbconvert_exporter": "python",
   "pygments_lexer": "ipython3",
   "version": "3.8.8"
  }
 },
 "nbformat": 4,
 "nbformat_minor": 5
}
